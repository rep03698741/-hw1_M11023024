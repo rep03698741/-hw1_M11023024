{
 "cells": [
  {
   "cell_type": "code",
   "execution_count": null,
   "id": "daaa2ac7",
   "metadata": {},
   "outputs": [],
   "source": [
    "import pandas as pd\n",
    "import numpy as np\n",
    "import matplotlib.pyplot as plt\n",
    "import seaborn as sns\n",
    "from scipy.stats import norm\n",
    "from collections import Counter\n",
    "from sklearn.preprocessing import LabelEncoder\n",
    "from sklearn.model_selection import GridSearchCV, train_test_split\n",
    "from sklearn.ensemble import RandomForestRegressor\n",
    "from sklearn.neighbors import KNeighborsRegressor\n",
    "from sklearn.svm import SVR\n",
    "import xgboost\n",
    "import sklearn.metrics as metrics\n",
    "from sklearn.metrics import mean_absolute_error, mean_squared_error, mean_absolute_percentage_error, classification_report, confusion_matrix\n",
    "from sklearn import preprocessing\n",
    "from math import sqrt"
   ]
  },
  {
   "cell_type": "code",
   "execution_count": null,
   "id": "de58903e",
   "metadata": {},
   "outputs": [],
   "source": [
    "knn_param = [{'n_neighbors': np.linspace(1,30,30,dtype=int), 'weights': ['uniform','distance'],'p':[1,2,5]}]\n",
    "scoring = {\"MAE\": \"neg_mean_absolute_error\", \"MSE\": \"neg_mean_squared_error\", \"MAPE\": \"neg_mean_absolute_percentage_error\"}\n",
    "clf = GridSearchCV(KNeighborsRegressor(), knn_param, scoring=scoring, refit=\"MAPE\" , cv=5, n_jobs=-1, verbose=1)\n",
    "clf.fit(X_scaled,y_train)"
   ]
  },
  {
   "cell_type": "code",
   "execution_count": null,
   "id": "02391bf6",
   "metadata": {},
   "outputs": [],
   "source": [
    "print('最佳取值：{0}'.format(clf.best_params_))\n",
    "print('最佳模型得分:{0}'.format(clf.best_score_))"
   ]
  },
  {
   "cell_type": "code",
   "execution_count": null,
   "id": "27e306f3",
   "metadata": {},
   "outputs": [],
   "source": [
    "# KNN parameter\n",
    "# n_neighbors=25, p=1, weights='uniform'"
   ]
  },
  {
   "cell_type": "code",
   "execution_count": null,
   "id": "552d6895",
   "metadata": {},
   "outputs": [],
   "source": []
  },
  {
   "cell_type": "code",
   "execution_count": null,
   "id": "094f0455",
   "metadata": {},
   "outputs": [],
   "source": [
    "svr_param = {'C' : np.linspace(31 ,45 ,15, dtype=int), 'gamma' : ['scale', 'auto'], 'epsilon' : [0.1,0.2,0.3]}\n",
    "scoring = {\"MAE\": \"neg_mean_absolute_error\", \"MSE\": \"neg_mean_squared_error\", \"MAPE\": \"neg_mean_absolute_percentage_error\"}\n",
    "clf = GridSearchCV(SVR(), svr_param, scoring=scoring, refit=\"MAPE\" , cv=5, n_jobs=-1, verbose=1)\n",
    "clf.fit(X_scaled,y_train)"
   ]
  },
  {
   "cell_type": "code",
   "execution_count": null,
   "id": "8302014f",
   "metadata": {},
   "outputs": [],
   "source": [
    "print('最佳取值：{0}'.format(clf.best_params_))\n",
    "print('最佳模型得分:{0}'.format(clf.best_score_))"
   ]
  },
  {
   "cell_type": "code",
   "execution_count": null,
   "id": "2e4b2ea8",
   "metadata": {},
   "outputs": [],
   "source": [
    "# SVR parameter\n",
    "# C=45, epsilon=0.2, gamma='scale'"
   ]
  },
  {
   "cell_type": "code",
   "execution_count": null,
   "id": "dd8caabc",
   "metadata": {},
   "outputs": [],
   "source": []
  },
  {
   "cell_type": "code",
   "execution_count": null,
   "id": "f41a05b4",
   "metadata": {},
   "outputs": [],
   "source": [
    "tree_param = {'n_estimators': np.linspace(1200,1300,11,dtype=int),'min_samples_split': np.linspace(80,90,11,dtype=int)}\n",
    "scoring = {\"MAE\": \"neg_mean_absolute_error\", \"MSE\": \"neg_mean_squared_error\", \"MAPE\": \"neg_mean_absolute_percentage_error\"}\n",
    "clf = GridSearchCV(RandomForestRegressor(), tree_param, scoring=scoring, refit=\"MAPE\" , cv=5, n_jobs=-1, verbose=1)\n",
    "clf.fit(X_scaled,y_train)"
   ]
  },
  {
   "cell_type": "code",
   "execution_count": null,
   "id": "db87f37a",
   "metadata": {},
   "outputs": [],
   "source": [
    "print('最佳取值：{0}'.format(clf.best_params_))\n",
    "print('最佳模型得分:{0}'.format(clf.best_score_))"
   ]
  },
  {
   "cell_type": "code",
   "execution_count": null,
   "id": "2e71af34",
   "metadata": {},
   "outputs": [],
   "source": [
    "# RF parameter\n",
    "# min_samples_split=80, n_estimators=1240"
   ]
  },
  {
   "cell_type": "code",
   "execution_count": null,
   "id": "db6753a7",
   "metadata": {},
   "outputs": [],
   "source": []
  },
  {
   "cell_type": "code",
   "execution_count": null,
   "id": "3208c968",
   "metadata": {},
   "outputs": [],
   "source": [
    "cv_params = {'n_estimators': np.linspace(100 ,1000 ,10, dtype=int)}\n",
    "cv_params = {'n_estimators': np.linspace(n-50 ,n+50 ,11, dtype=int)}\n",
    "cv_params = {'n_estimators': np.linspace(n-10 ,n+10 ,21, dtype=int)}\n",
    "\n",
    "cv_params = {'max_depth': np.linspace(1 ,10 ,10, dtype=int), 'min_child_weight': np.linspace(1 ,10 ,10, dtype=int)}\n",
    "\n",
    "cv_params = {'gamma': np.linspace(0 ,1 ,11)}\n",
    "cv_params = {'gamma': np.linspace(n-0.1 ,n+0.1 ,21)}\n",
    "\n",
    "cv_params = {'subsample': np.linspace(0 ,1 ,11), 'colsample_bytree': np.linspace(0 ,1 ,11)[1:]}\n",
    "\n",
    "cv_params = {'reg_alpha': [0.05,0.1,1,2,3,np.linspace(0 ,100 ,11)], 'reg_lambda': [0.05,0.1,1,2,3,np.linspace(0 ,10 ,11)]}\n",
    "\n",
    "\n",
    "cv_params = {'learning_rate': np.linspace(0.01 ,0.1 ,10)}\n",
    "cv_params = {'learning_rate': np.linspace(n-0.01 ,n+0.01 ,21)}\n",
    "\n",
    "other_params = {'learning_rate': 0.1, 'n_estimators': 500, 'max_depth': 5, 'min_child_weight': 1, 'seed': 0,\n",
    "'subsample': 1, 'colsample_bytree': 1, 'gamma': 0, 'reg_alpha': 0, 'reg_lambda': 1}"
   ]
  },
  {
   "cell_type": "code",
   "execution_count": null,
   "id": "e460b6c1",
   "metadata": {},
   "outputs": [],
   "source": [
    "cv_params = {'learning_rate': np.linspace(0.01 ,0.03 ,21)}\n",
    "other_params = {'learning_rate': 0.1, 'n_estimators': 184, 'max_depth': 5, 'min_child_weight': 9, 'seed': 0,\n",
    "'subsample': 1, 'colsample_bytree': 0.8, 'gamma': 0.01, 'reg_alpha': 0.05, 'reg_lambda': 3}\n",
    "scoring = {\"MAE\": \"neg_mean_absolute_error\", \"MSE\": \"neg_mean_squared_error\", \"MAPE\": \"neg_mean_absolute_percentage_error\"}\n",
    "model = xgboost.XGBRegressor(**other_params)\n",
    "clf = GridSearchCV(estimator=model, param_grid=cv_params, scoring=scoring, refit=\"MAPE\" , cv=5, n_jobs=-1, verbose=1)\n",
    "clf.fit(X_scaled, y_train)"
   ]
  },
  {
   "cell_type": "code",
   "execution_count": null,
   "id": "f493125c",
   "metadata": {},
   "outputs": [],
   "source": [
    "# XG parameter\n",
    "# n_estimators=184, max_depth=5, min_child_weight=9, gamma=0.01,colsample_bytree=0.8\n",
    "#                        , reg_alpha=0.05, reg_lambda=3, learning_rate=0.02"
   ]
  },
  {
   "cell_type": "code",
   "execution_count": null,
   "id": "b1a3ff28",
   "metadata": {},
   "outputs": [],
   "source": []
  }
 ],
 "metadata": {
  "kernelspec": {
   "display_name": "Python 3",
   "language": "python",
   "name": "python3"
  },
  "language_info": {
   "codemirror_mode": {
    "name": "ipython",
    "version": 3
   },
   "file_extension": ".py",
   "mimetype": "text/x-python",
   "name": "python",
   "nbconvert_exporter": "python",
   "pygments_lexer": "ipython3",
   "version": "3.6.13"
  }
 },
 "nbformat": 4,
 "nbformat_minor": 5
}
